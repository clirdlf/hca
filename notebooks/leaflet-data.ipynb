{
 "cells": [
  {
   "cell_type": "code",
   "execution_count": 36,
   "metadata": {},
   "outputs": [
    {
     "name": "stdout",
     "output_type": "stream",
     "text": [
      "Requirement already satisfied: pandas in /Users/wgraham/.pyenv/versions/3.11.4/lib/python3.11/site-packages (1.5.3)\n",
      "Requirement already satisfied: python-dateutil>=2.8.1 in /Users/wgraham/.pyenv/versions/3.11.4/lib/python3.11/site-packages (from pandas) (2.8.2)\n",
      "Requirement already satisfied: pytz>=2020.1 in /Users/wgraham/.pyenv/versions/3.11.4/lib/python3.11/site-packages (from pandas) (2023.3)\n",
      "Requirement already satisfied: numpy>=1.21.0 in /Users/wgraham/.pyenv/versions/3.11.4/lib/python3.11/site-packages (from pandas) (1.23.5)\n",
      "Requirement already satisfied: six>=1.5 in /Users/wgraham/.pyenv/versions/3.11.4/lib/python3.11/site-packages (from python-dateutil>=2.8.1->pandas) (1.16.0)\n"
     ]
    }
   ],
   "source": [
    "!pip install -q pandas"
   ]
  },
  {
   "cell_type": "code",
   "execution_count": 37,
   "metadata": {},
   "outputs": [],
   "source": [
    "import pandas as pd\n",
    "import json\n",
    "import html"
   ]
  },
  {
   "cell_type": "markdown",
   "metadata": {},
   "source": [
    "## AAU Markers"
   ]
  },
  {
   "cell_type": "code",
   "execution_count": 43,
   "metadata": {},
   "outputs": [
    {
     "name": "stdout",
     "output_type": "stream",
     "text": [
      "Marker code saved as ../src/assets/js/markers-aau.js\n"
     ]
    }
   ],
   "source": [
    "csv_file = 'aau_members-geocoded.csv'\n",
    "js_file = '../src/assets/js/markers-aau.js'\n",
    "\n",
    "df = pd.read_csv(csv_file)\n",
    "df = df.drop(columns=['Unnamed: 0']) # drop unneeded field\n",
    "data = df.to_dict(orient='records')\n",
    "\n",
    "with open(js_file, 'w') as f:\n",
    "    # f.write('var markers = [];\\n')\n",
    "    f.write('var aauMarker =     L.AwesomeMarkers.icon({\"extraClasses\": \"fa-rotate-0\", \"icon\": \"fa-university\", \"iconColor\": \"white\", \"markerColor\": \"purple\", \"prefix\": \"fa\"});')\n",
    "    f.write('let aauMarkers = [];')\n",
    "    for index, row in df.iterrows():\n",
    "        latitude = row['latitude']\n",
    "        longitude = row['longitude']\n",
    "        institution = html.escape(row['institution'])\n",
    "        url = row['website']\n",
    "        # Write JavaScript code for creating a marker and binding a popup\n",
    "        f.write(f\"var marker = L.marker([{latitude}, {longitude}], {{icon: aauMarker, alt: '{institution}'}}).addTo(map)\\n\")\n",
    "        f.write(f\"  .bindPopup('<h3><a target=\\\"_blank\\\" href=\\\"{url}\\\">{institution}</a></h3>');\\n\")\n",
    "        \n",
    "        # Add the marker to the markers array\n",
    "        f.write('markers.push(marker);\\n')\n",
    "        f.write('aauMarkers.push(marker);\\n')\n",
    "    f.write(f'var aau = L.layerGroup(aauMarkers);')\n",
    "print(f'Marker code saved as {js_file}')\n"
   ]
  },
  {
   "cell_type": "markdown",
   "metadata": {},
   "source": [
    "## CENL Markers"
   ]
  },
  {
   "cell_type": "code",
   "execution_count": 39,
   "metadata": {},
   "outputs": [
    {
     "name": "stdout",
     "output_type": "stream",
     "text": [
      "Marker code saved as ../src/assets/js/markers-cenl.js\n"
     ]
    }
   ],
   "source": [
    "csv_file = 'cenl_members-geocoded.csv'\n",
    "js_file = '../src/assets/js/markers-cenl.js'\n",
    "\n",
    "df = pd.read_csv(csv_file)\n",
    "df = df.drop(columns=['Unnamed: 0']) # drop unneeded field\n",
    "data = df.to_dict(orient='records')\n",
    "\n",
    "with open(js_file, 'w') as f:\n",
    "    f.write('var cenlMarker =     L.AwesomeMarkers.icon({\"extraClasses\": \"fa-rotate-0\", \"icon\": \"fa-university\", \"iconColor\": \"white\", \"markerColor\": \"green\", \"prefix\": \"fa\"});')\n",
    "\n",
    "    for index, row in df.iterrows():\n",
    "        latitude = row['latitude']\n",
    "        longitude = row['longitude']\n",
    "        institution = html.escape(row['institution'])\n",
    "        url = row['website']\n",
    "        # Write JavaScript code for creating a marker and binding a popup\n",
    "        f.write(f\"var marker = L.marker([{latitude}, {longitude}], {{icon: cenlMarker, alt: '{institution}'}}).addTo(map)\\n\")\n",
    "        f.write(f\"  .bindPopup('<h3><a target=\\\"_blank\\\" href=\\\"{url}\\\">{institution}</a></h3>');\\n\")\n",
    "        \n",
    "        # Add the marker to the markers array\n",
    "        f.write('markers.push(marker);\\n')\n",
    "\n",
    "print(f'Marker code saved as {js_file}')"
   ]
  },
  {
   "cell_type": "markdown",
   "metadata": {},
   "source": [
    "## CLIR Markers"
   ]
  },
  {
   "cell_type": "code",
   "execution_count": 40,
   "metadata": {},
   "outputs": [
    {
     "name": "stdout",
     "output_type": "stream",
     "text": [
      "Marker code saved as ../src/assets/js/markers-clir.js\n"
     ]
    }
   ],
   "source": [
    "csv_file = 'clir_members-geocoded.csv'\n",
    "js_file = '../src/assets/js/markers-clir.js'\n",
    "\n",
    "df = pd.read_csv(csv_file)\n",
    "df = df.drop(columns=['Unnamed: 0']) # drop unneeded field\n",
    "data = df.to_dict(orient='records')\n",
    "\n",
    "with open(js_file, 'w') as f:\n",
    "    f.write('var clirMarker =     L.AwesomeMarkers.icon({\"extraClasses\": \"fa-rotate-0\", \"icon\": \"fa-university\", \"iconColor\": \"white\", \"markerColor\": \"darkred\", \"prefix\": \"fa\"});')\n",
    "\n",
    "    for index, row in df.iterrows():\n",
    "        latitude = row['latitude']\n",
    "        longitude = row['longitude']\n",
    "        institution = html.escape(row['institution'])\n",
    "        url = row['website']\n",
    "        # Write JavaScript code for creating a marker and binding a popup\n",
    "        f.write(f\"var marker = L.marker([{latitude}, {longitude}], {{icon: clirMarker, alt: '{institution}'}}).addTo(map)\\n\")\n",
    "        f.write(f\"  .bindPopup('<h3><a target=\\\"_blank\\\" href=\\\"{url}\\\">{institution}</a></h3>');\\n\")\n",
    "        \n",
    "        # Add the marker to the markers array\n",
    "        f.write('markers.push(marker);\\n')\n",
    "\n",
    "print(f'Marker code saved as {js_file}')"
   ]
  },
  {
   "cell_type": "markdown",
   "metadata": {},
   "source": [
    "## HBCU Members"
   ]
  },
  {
   "cell_type": "code",
   "execution_count": 41,
   "metadata": {},
   "outputs": [
    {
     "name": "stdout",
     "output_type": "stream",
     "text": [
      "Marker code saved as ../src/assets/js/markers-hbcu.js\n"
     ]
    }
   ],
   "source": [
    "csv_file = 'hbcu_members-geocoded.csv'\n",
    "js_file = '../src/assets/js/markers-hbcu.js'\n",
    "\n",
    "df = pd.read_csv(csv_file)\n",
    "df = df.drop(columns=['Unnamed: 0']) # drop unneeded field\n",
    "data = df.to_dict(orient='records')\n",
    "\n",
    "with open(js_file, 'w') as f:\n",
    "    f.write('var hbcuMarker =     L.AwesomeMarkers.icon({\"extraClasses\": \"fa-rotate-0\", \"icon\": \"fa-university\", \"iconColor\": \"white\", \"markerColor\": \"darkpurple\", \"prefix\": \"fa\"});')\n",
    "\n",
    "    for index, row in df.iterrows():\n",
    "        latitude = row['latitude']\n",
    "        longitude = row['longitude']\n",
    "        institution = html.escape(row['institution'])\n",
    "        url = row['website']\n",
    "        # Write JavaScript code for creating a marker and binding a popup\n",
    "        f.write(f\"var marker = L.marker([{latitude}, {longitude}], {{icon: hbcuMarker, alt: '{institution}'}}).addTo(map)\\n\")\n",
    "        f.write(f\"  .bindPopup('<h3><a target=\\\"_blank\\\" href=\\\"{url}\\\">{institution}</a></h3>');\\n\")\n",
    "        \n",
    "        # Add the marker to the markers array\n",
    "        f.write('markers.push(marker);\\n')\n",
    "\n",
    "print(f'Marker code saved as {js_file}')"
   ]
  }
 ],
 "metadata": {
  "kernelspec": {
   "display_name": "Python 3",
   "language": "python",
   "name": "python3"
  },
  "language_info": {
   "codemirror_mode": {
    "name": "ipython",
    "version": 3
   },
   "file_extension": ".py",
   "mimetype": "text/x-python",
   "name": "python",
   "nbconvert_exporter": "python",
   "pygments_lexer": "ipython3",
   "version": "3.11.4"
  },
  "orig_nbformat": 4
 },
 "nbformat": 4,
 "nbformat_minor": 2
}
