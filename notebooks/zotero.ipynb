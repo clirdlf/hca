{
 "cells": [
  {
   "cell_type": "code",
   "execution_count": 4,
   "metadata": {},
   "outputs": [],
   "source": [
    "# %pip install pyzotero python-dotenv"
   ]
  },
  {
   "cell_type": "code",
   "execution_count": 6,
   "metadata": {},
   "outputs": [
    {
     "name": "stdout",
     "output_type": "stream",
     "text": [
      "The dotenv extension is already loaded. To reload it, use:\n",
      "  %reload_ext dotenv\n"
     ]
    }
   ],
   "source": [
    "# %reload_ext dotenv\n",
    "%load_ext dotenv\n",
    "%dotenv"
   ]
  },
  {
   "cell_type": "code",
   "execution_count": 8,
   "metadata": {},
   "outputs": [],
   "source": [
    "from pyzotero import zotero\n",
    "\n",
    "import json\n",
    "import os\n",
    "\n",
    "# https://pyzotero.readthedocs.io/en/latest/\n",
    "\n",
    "# userID = 43\n",
    "# https://www.zotero.org/groups/5548438/hcafrica\n",
    "\n",
    "API_KEY = os.getenv('ZOTERO_API_NEW')"
   ]
  },
  {
   "cell_type": "code",
   "execution_count": 9,
   "metadata": {},
   "outputs": [],
   "source": [
    "zot = zotero.Zotero(5548438, 'group', API_KEY)\n",
    "items = zot.items(include=\"bib,citation,data\")\n",
    "\n",
    "# write to src/_data/zotero.json\n",
    "with open('../src/_data/zotero.json', 'w', encoding='utf-8') as f:\n",
    "    json.dump(items, f, ensure_ascii=False, indent=4)"
   ]
  }
 ],
 "metadata": {
  "kernelspec": {
   "display_name": "Python 3",
   "language": "python",
   "name": "python3"
  },
  "language_info": {
   "codemirror_mode": {
    "name": "ipython",
    "version": 3
   },
   "file_extension": ".py",
   "mimetype": "text/x-python",
   "name": "python",
   "nbconvert_exporter": "python",
   "pygments_lexer": "ipython3",
   "version": "3.11.5"
  }
 },
 "nbformat": 4,
 "nbformat_minor": 2
}
