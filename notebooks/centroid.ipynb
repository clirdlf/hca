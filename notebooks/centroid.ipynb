{
 "cells": [
  {
   "cell_type": "code",
   "execution_count": 1,
   "metadata": {},
   "outputs": [
    {
     "name": "stdout",
     "output_type": "stream",
     "text": [
      "Note: you may need to restart the kernel to use updated packages.\n"
     ]
    }
   ],
   "source": [
    "%pip -q install geopy pandas geopandas"
   ]
  },
  {
   "cell_type": "markdown",
   "metadata": {},
   "source": [
    "# Read all the CSV files"
   ]
  },
  {
   "cell_type": "code",
   "execution_count": 3,
   "metadata": {},
   "outputs": [
    {
     "data": {
      "text/html": [
       "<div>\n",
       "<style scoped>\n",
       "    .dataframe tbody tr th:only-of-type {\n",
       "        vertical-align: middle;\n",
       "    }\n",
       "\n",
       "    .dataframe tbody tr th {\n",
       "        vertical-align: top;\n",
       "    }\n",
       "\n",
       "    .dataframe thead th {\n",
       "        text-align: right;\n",
       "    }\n",
       "</style>\n",
       "<table border=\"1\" class=\"dataframe\">\n",
       "  <thead>\n",
       "    <tr style=\"text-align: right;\">\n",
       "      <th></th>\n",
       "      <th>Unnamed: 0</th>\n",
       "      <th>institution</th>\n",
       "      <th>location</th>\n",
       "      <th>country</th>\n",
       "      <th>website</th>\n",
       "      <th>status</th>\n",
       "      <th>point</th>\n",
       "      <th>latitude</th>\n",
       "      <th>longitude</th>\n",
       "      <th>altitude</th>\n",
       "      <th>geometry</th>\n",
       "      <th>Unnamed: 0.1</th>\n",
       "    </tr>\n",
       "  </thead>\n",
       "  <tbody>\n",
       "    <tr>\n",
       "      <th>0</th>\n",
       "      <td>0</td>\n",
       "      <td>Abia State University</td>\n",
       "      <td>441103, Uturu, Abia, Nigeria</td>\n",
       "      <td>Nigeria</td>\n",
       "      <td>http://absu.edu.ng/</td>\n",
       "      <td>Full Member</td>\n",
       "      <td>(5.8225266, 7.3940761, 0.0)</td>\n",
       "      <td>5.822527</td>\n",
       "      <td>7.394076</td>\n",
       "      <td>0.0</td>\n",
       "      <td>POINT (7.3940761 5.8225266)</td>\n",
       "      <td>NaN</td>\n",
       "    </tr>\n",
       "    <tr>\n",
       "      <th>1</th>\n",
       "      <td>1</td>\n",
       "      <td>Abm University College</td>\n",
       "      <td>9VFM+H73, Lephala, Gaborone, Botswana</td>\n",
       "      <td>Botswana</td>\n",
       "      <td>https://abm.ac.bw</td>\n",
       "      <td>Associate Member</td>\n",
       "      <td>(-24.626106, 25.8831748, 0.0)</td>\n",
       "      <td>-24.626106</td>\n",
       "      <td>25.883175</td>\n",
       "      <td>0.0</td>\n",
       "      <td>POINT (25.8831748 -24.626106)</td>\n",
       "      <td>NaN</td>\n",
       "    </tr>\n",
       "    <tr>\n",
       "      <th>2</th>\n",
       "      <td>2</td>\n",
       "      <td>Abrar University</td>\n",
       "      <td>NaN</td>\n",
       "      <td>Somalia</td>\n",
       "      <td>https://abrar.edu.so</td>\n",
       "      <td>Associate Member</td>\n",
       "      <td>(2.0379639,45.2855899,0.0)</td>\n",
       "      <td>2.037964</td>\n",
       "      <td>45.285590</td>\n",
       "      <td>0.0</td>\n",
       "      <td>POINT (45.2855899 2.0379639)</td>\n",
       "      <td>NaN</td>\n",
       "    </tr>\n",
       "    <tr>\n",
       "      <th>3</th>\n",
       "      <td>3</td>\n",
       "      <td>Abubakar Tafawa Balewa University</td>\n",
       "      <td>Campus: Along Bauchi, Dass Road, 740272, Yelwa...</td>\n",
       "      <td>Nigeria</td>\n",
       "      <td>http://www.atbu.edu.ng/</td>\n",
       "      <td>Full Member</td>\n",
       "      <td>(10.280075, 9.79455, 0.0)</td>\n",
       "      <td>10.280075</td>\n",
       "      <td>9.794550</td>\n",
       "      <td>0.0</td>\n",
       "      <td>POINT (9.79455 10.280075)</td>\n",
       "      <td>NaN</td>\n",
       "    </tr>\n",
       "    <tr>\n",
       "      <th>4</th>\n",
       "      <td>4</td>\n",
       "      <td>Accra Institute Of Technology</td>\n",
       "      <td>34 Concam Cres, Accra, Ghana</td>\n",
       "      <td>Ghana</td>\n",
       "      <td>http://ait-edu.us/</td>\n",
       "      <td>Full Member</td>\n",
       "      <td>(5.5818774, -0.2141298, 0.0)</td>\n",
       "      <td>5.581877</td>\n",
       "      <td>-0.214130</td>\n",
       "      <td>0.0</td>\n",
       "      <td>POINT (-0.2141298 5.5818774)</td>\n",
       "      <td>NaN</td>\n",
       "    </tr>\n",
       "  </tbody>\n",
       "</table>\n",
       "</div>"
      ],
      "text/plain": [
       "   Unnamed: 0                        institution  \\\n",
       "0           0              Abia State University   \n",
       "1           1             Abm University College   \n",
       "2           2                   Abrar University   \n",
       "3           3  Abubakar Tafawa Balewa University   \n",
       "4           4      Accra Institute Of Technology   \n",
       "\n",
       "                                            location   country  \\\n",
       "0                       441103, Uturu, Abia, Nigeria   Nigeria   \n",
       "1              9VFM+H73, Lephala, Gaborone, Botswana  Botswana   \n",
       "2                                                NaN   Somalia   \n",
       "3  Campus: Along Bauchi, Dass Road, 740272, Yelwa...   Nigeria   \n",
       "4                       34 Concam Cres, Accra, Ghana     Ghana   \n",
       "\n",
       "                   website            status                          point  \\\n",
       "0      http://absu.edu.ng/       Full Member    (5.8225266, 7.3940761, 0.0)   \n",
       "1        https://abm.ac.bw  Associate Member  (-24.626106, 25.8831748, 0.0)   \n",
       "2     https://abrar.edu.so  Associate Member     (2.0379639,45.2855899,0.0)   \n",
       "3  http://www.atbu.edu.ng/       Full Member      (10.280075, 9.79455, 0.0)   \n",
       "4       http://ait-edu.us/       Full Member   (5.5818774, -0.2141298, 0.0)   \n",
       "\n",
       "    latitude  longitude  altitude                       geometry  Unnamed: 0.1  \n",
       "0   5.822527   7.394076       0.0    POINT (7.3940761 5.8225266)           NaN  \n",
       "1 -24.626106  25.883175       0.0  POINT (25.8831748 -24.626106)           NaN  \n",
       "2   2.037964  45.285590       0.0   POINT (45.2855899 2.0379639)           NaN  \n",
       "3  10.280075   9.794550       0.0      POINT (9.79455 10.280075)           NaN  \n",
       "4   5.581877  -0.214130       0.0   POINT (-0.2141298 5.5818774)           NaN  "
      ]
     },
     "execution_count": 3,
     "metadata": {},
     "output_type": "execute_result"
    }
   ],
   "source": [
    "import pandas as pd\n",
    "\n",
    "df = pd.concat(\n",
    "    map(pd.read_csv, ['aau_members-geocoded.csv', 'cenl_members-geocoded.csv', 'clir_members-geocoded.csv', 'hbcu_members-geocoded.csv', 'rfn_members-geocoded.csv'])\n",
    ")\n",
    "\n",
    "df.head()"
   ]
  },
  {
   "cell_type": "code",
   "execution_count": 14,
   "metadata": {},
   "outputs": [
    {
     "data": {
      "text/plain": [
       "0    POINT (-17.207 18.432)\n",
       "dtype: geometry"
      ]
     },
     "execution_count": 14,
     "metadata": {},
     "output_type": "execute_result"
    }
   ],
   "source": [
    "import geopandas\n",
    "\n",
    "gdf = geopandas.GeoDataFrame(\n",
    "    df, geometry=geopandas.points_from_xy(df.longitude, df.latitude, crs=\"EPSG:3857\")\n",
    ")\n",
    "\n",
    "gdf.dissolve().centroid\n"
   ]
  },
  {
   "cell_type": "markdown",
   "metadata": {},
   "source": []
  }
 ],
 "metadata": {
  "kernelspec": {
   "display_name": "Python 3",
   "language": "python",
   "name": "python3"
  },
  "language_info": {
   "codemirror_mode": {
    "name": "ipython",
    "version": 3
   },
   "file_extension": ".py",
   "mimetype": "text/x-python",
   "name": "python",
   "nbconvert_exporter": "python",
   "pygments_lexer": "ipython3",
   "version": "3.11.4"
  }
 },
 "nbformat": 4,
 "nbformat_minor": 2
}
